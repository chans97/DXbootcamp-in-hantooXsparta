{
 "cells": [
  {
   "cell_type": "code",
   "execution_count": 8,
   "id": "cdb1b31a",
   "metadata": {},
   "outputs": [
    {
     "name": "stdout",
     "output_type": "stream",
     "text": [
      "Requirement already satisfied: openpyxl in /Users/chansoo/project/DXBootCamp/venv/lib/python3.9/site-packages (3.1.2)\r\n",
      "Requirement already satisfied: requests in /Users/chansoo/project/DXBootCamp/venv/lib/python3.9/site-packages (2.28.2)\r\n",
      "Requirement already satisfied: bs4 in /Users/chansoo/project/DXBootCamp/venv/lib/python3.9/site-packages (0.0.1)\r\n",
      "Requirement already satisfied: et-xmlfile in /Users/chansoo/project/DXBootCamp/venv/lib/python3.9/site-packages (from openpyxl) (1.1.0)\r\n",
      "Requirement already satisfied: charset-normalizer<4,>=2 in /Users/chansoo/project/DXBootCamp/venv/lib/python3.9/site-packages (from requests) (3.1.0)\r\n",
      "Requirement already satisfied: urllib3<1.27,>=1.21.1 in /Users/chansoo/project/DXBootCamp/venv/lib/python3.9/site-packages (from requests) (1.26.15)\r\n",
      "Requirement already satisfied: certifi>=2017.4.17 in /Users/chansoo/project/DXBootCamp/venv/lib/python3.9/site-packages (from requests) (2022.12.7)\r\n",
      "Requirement already satisfied: idna<4,>=2.5 in /Users/chansoo/project/DXBootCamp/venv/lib/python3.9/site-packages (from requests) (3.4)\r\n",
      "Requirement already satisfied: beautifulsoup4 in /Users/chansoo/project/DXBootCamp/venv/lib/python3.9/site-packages (from bs4) (4.12.2)\r\n",
      "Requirement already satisfied: soupsieve>1.2 in /Users/chansoo/project/DXBootCamp/venv/lib/python3.9/site-packages (from beautifulsoup4->bs4) (2.4)\r\n"
     ]
    }
   ],
   "source": [
    "!pip install openpyxl requests bs4"
   ]
  },
  {
   "cell_type": "code",
   "execution_count": 9,
   "id": "cbe7430d",
   "metadata": {},
   "outputs": [],
   "source": [
    "import requests\n",
    "from bs4 import BeautifulSoup"
   ]
  },
  {
   "cell_type": "code",
   "execution_count": 13,
   "id": "228de148",
   "metadata": {},
   "outputs": [],
   "source": [
    "def scrap_news(keyword):\n",
    "    URL =f'https://search.naver.com/search.naver?where=news&ie=utf8&sm=nws_hty&query={keyword}'\n",
    "    headers = {'User-Agent' : 'Mozilla/5.0 (Windows NT 10.0; Win64; x64)AppleWebKit/537.36 (KHTML, like Gecko) Chrome/73.0.3683.86 Safari/537.36'}\n",
    "    data = requests.get(URL,headers=headers)\n",
    "    soup = BeautifulSoup(data.text, 'html.parser')\n",
    "    \n",
    "    news_list = soup.select(\".list_news>li\")\n",
    "    news_dict_list = []\n",
    "    for news in news_list:\n",
    "        news_dict = {}\n",
    "        news_dict.update(\n",
    "            {\n",
    "                \"title\":news.select_one(\"div.news_wrap.api_ani_send > div > a\").text,\n",
    "                \"content\":news.select_one(\"div.news_wrap.api_ani_send > div > div.news_dsc > div > a\").text\n",
    "            }\n",
    "        )\n",
    "        news_dict_list.append(news_dict)\n",
    "\n",
    "\n",
    "    return news_dict_list"
   ]
  },
  {
   "cell_type": "code",
   "execution_count": 14,
   "id": "636b0d46",
   "metadata": {},
   "outputs": [],
   "source": [
    "apple_news_list=scrap_news(\"애플\")"
   ]
  },
  {
   "cell_type": "code",
   "execution_count": 15,
   "id": "3168bcc9",
   "metadata": {},
   "outputs": [
    {
     "name": "stdout",
     "output_type": "stream",
     "text": [
      "{'title': \"애플, 맥 출하량 급감…2분기 연속 '역성장' 신호?\", 'content': \"'생산 정상화' 아이폰 판매가 좌우할듯…내달 4일 실적 발표 김태종 특파원 = 아이폰 제조업체 애플의 개인용 컴퓨터 맥(Mac) 출하량이 1년 전보다 급감한 것으로 나타나면서 1분기(애플 회계연도 2분기) 실적에...\"}\n",
      "{'title': '애플페이 상륙으로 불붙은 ‘간편결제 大戰’', 'content': '서비스 ‘애플페이’가 3월 21일 한국에 상륙했다. 삼성전자 갤럭시폰 사용자는 ‘삼성페이’를 통해... 간편결제 애플리케이션(앱) 사용자 수 기준 1위이고, 국내 앱 시장 전체로 따져도 10위권이다. 삼성페이 누적...'}\n",
      "{'title': '\"애플도 별 수 없나\"…PC 출하량 40%↓', 'content': '애플의 PC 출하량이 지난해보다 40% 넘게 급감한 것으로 나타났습니다. 블룸버그통신은 현지시각 10일 시장조사업체 IDC에 따르면 애플의 1분기 개인용 컴퓨터 출하량이 지난해 1분기보다 40.5% 줄어들었다고...'}\n",
      "{'title': '애플, 1분기 PC 출하량 40% 급감…닷컴 버블 이후 최악', 'content': '애플의 1분기 전세계 PC 출하량이 40% 이상 감소한 것으로 나타났다. 코로나19 팬데믹 이후 전세계 PC 수요가 급감하며 모든 PC 업체가 고전했지만 애플의 감소폭이 가장 컸다. 시장조사업체 IDC는 10일(현지시간) 1분기...'}\n",
      "{'title': '뉴욕증시, 긴축 우려 속에 혼조…애플 1.6% ↓, 테슬라 0.3% ↓', 'content': '종목별로는 빅테크 대장주인 애플 주가는 애플의 1분기 개인용 컴퓨터(PC) 출하량이 지난해 같은 기간보다 40% 이상 급감했다는 소식에 1.60% 하락했다.구글 모기업 알파벳은 1.83% 내렸다. 반면, 삼성전자의 감산...'}\n",
      "{'title': '애플, 기기 권한 탈취 가능한 보안 취약점 발견', 'content': '애플은 이미 악용사례가 보고되고 있다며 빠르게 보안 업데이트를 진행할 것을 강조하고 있다. 10일(현지시각) 더레지스터 등 외신에 따르면 구글과 국제엠네스티는 애플이 배포한 패치에서 두 가지 보안 버그(CVE-2023...'}\n",
      "{'title': '애플처럼 ‘테슬라 제국’ 노리나···전압 ‘12V→48V’ 바꾸는 이유는', 'content': '나아가 테슬라가 이를 통해 애플처럼 ‘테슬라 생태계’ 혹은 ‘테슬라 제국’을 만들려는 전략을... 애플이 iOS라는 운영체제를 구축하고, 전용 충전 단자를 활용하는 등 애플 생태계를 만든 것과 닮은 꼴이다. 테슬라의...'}\n",
      "{'title': \"'무노조 경영' 애플, 노조 결성 움직임 확산에 대응\", 'content': '\\'무노조 경영\\'을 고수해온 애플이 매장 직원들의 노조 결성을 막기 위해 노력하고 있다고 9일(현지시간) <블룸버그통신>이 보도했다. 블룸버그는 \"애플이 아마존이나 스타벅스처럼 노조가 회사에 침투하지 않도록 애플...'}\n",
      "{'title': '애플·구글처럼…롯데웰푸드, 탄소중립 위한 글로벌 ‘RE100’ 가입', 'content': '가입 대상은 연간 100GWh 이상의 전기를 소비하는 기업으로 RE100을 달성한 대표적 글로벌 기업으로는 애플, 구글 등이 있다. 롯데웰푸드는 현재 천안공장, 횡성공장, 김천공장 등 8개 생산공장에서 태양광 발전을...'}\n",
      "{'title': '9년만에 韓 상륙한 애플페이…미국서는 단기대출까지 한다', 'content': \"'애플 생태계'가 금융권으로까지 뻗고 있다. 9년 만에 애플페이를 국내에 출시한 데 이어 미국에선 단기 대출 형태의 '애플페이 레이터(Later)'를 선보였다. 아이폰을 '지갑화'하겠단 전략인데 현재 국내 진출은 불투명하다....\"}\n"
     ]
    }
   ],
   "source": [
    "\n",
    "\n",
    "    "
   ]
  },
  {
   "cell_type": "code",
   "execution_count": 23,
   "id": "9c04c13b",
   "metadata": {},
   "outputs": [],
   "source": [
    "from openpyxl import Workbook\n",
    "\n",
    "workbook = Workbook()\n",
    "애플_sheet = workbook.active(\"애플_sheet\") # 기본 시트\n",
    "삼성_sheet = workbook.create_sheet(\"삼성_sheet\") # 새로운 시트 생성\n",
    "\n",
    "apple_news_list=scrap_news(\"애플\")\n",
    "samsung_news_list=scrap_news(\"애플\")\n",
    "\n",
    "애플_sheet.append([\"title\",\"content\"])\n",
    "for news in apple_news_list:\n",
    "    excel_list = [news[\"title\"], news[\"content\"]]\n",
    "    sheet.append(excel_list)\n",
    "    \n",
    "삼성_sheet.append([\"title\",\"content\"])\n",
    "for news in samsung_news_list:\n",
    "    excel_list = [news[\"title\"], news[\"content\"]]\n",
    "    sheet.append(excel_list)\n",
    "\n",
    "workbook.save(\"samplefile.xlsx\")\n",
    "workbook.close()\n",
    "\n"
   ]
  },
  {
   "cell_type": "code",
   "execution_count": 1,
   "id": "56f55b26",
   "metadata": {},
   "outputs": [
    {
     "name": "stdout",
     "output_type": "stream",
     "text": [
      "123\n"
     ]
    }
   ],
   "source": [
    "print(\"123\")"
   ]
  }
 ],
 "metadata": {
  "kernelspec": {
   "display_name": "Python 3 (ipykernel)",
   "language": "python",
   "name": "python3"
  },
  "language_info": {
   "codemirror_mode": {
    "name": "ipython",
    "version": 3
   },
   "file_extension": ".py",
   "mimetype": "text/x-python",
   "name": "python",
   "nbconvert_exporter": "python",
   "pygments_lexer": "ipython3",
   "version": "3.9.6"
  }
 },
 "nbformat": 4,
 "nbformat_minor": 5
}
