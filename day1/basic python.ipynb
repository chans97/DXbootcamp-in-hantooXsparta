{
 "cells": [
  {
   "cell_type": "code",
   "execution_count": null,
   "id": "d33161aa",
   "metadata": {},
   "outputs": [],
   "source": [
    "num_list = [1,2,3,4,5]\n",
    "num_list[1]\n",
    "\n",
    "\n",
    "people =[]\n",
    "김찬수 = {\n",
    "    \"name\":\"김찬수\",\n",
    "    \"height\":175\n",
    "}\n",
    "people.append(김찬수)\n",
    "\n",
    "def say_hello():\n",
    "    print(\"hello\")\n",
    "    \n",
    "say_hello()\n",
    "\n",
    "age -20 \n",
    "if age > 20:\n",
    "    print(\"성인입니다.\")\n",
    "else:\n",
    "    print(\"미성년자입니다.\")\n",
    "    \n",
    "    \n",
    "    "
   ]
  },
  {
   "cell_type": "code",
   "execution_count": null,
   "id": "abfdc17f",
   "metadata": {},
   "outputs": [],
   "source": [
    "# 반복문 \n",
    "for a in num_list:"
   ]
  },
  {
   "cell_type": "code",
   "execution_count": 23,
   "id": "83cdbe02",
   "metadata": {},
   "outputs": [],
   "source": [
    "a_dict = {2:3,4:5}"
   ]
  },
  {
   "cell_type": "code",
   "execution_count": 4,
   "id": "23fdb9ea",
   "metadata": {},
   "outputs": [
    {
     "name": "stdout",
     "output_type": "stream",
     "text": [
      "{2: 3, 4: 5}\n"
     ]
    }
   ],
   "source": [
    "print(a_dict)"
   ]
  },
  {
   "cell_type": "code",
   "execution_count": 6,
   "id": "daaf2f75",
   "metadata": {},
   "outputs": [
    {
     "data": {
      "text/plain": [
       "3"
      ]
     },
     "execution_count": 6,
     "metadata": {},
     "output_type": "execute_result"
    }
   ],
   "source": [
    "a_dict.get(2)"
   ]
  },
  {
   "cell_type": "code",
   "execution_count": 7,
   "id": "1d7e87ea",
   "metadata": {},
   "outputs": [],
   "source": [
    "def f(x):\n",
    "    return x*2"
   ]
  },
  {
   "cell_type": "code",
   "execution_count": 9,
   "id": "8963a2aa",
   "metadata": {},
   "outputs": [],
   "source": [
    "ages=[20,30,14,4]"
   ]
  },
  {
   "cell_type": "code",
   "execution_count": 17,
   "id": "4052f990",
   "metadata": {},
   "outputs": [
    {
     "name": "stdout",
     "output_type": "stream",
     "text": [
      "20\n",
      "30\n",
      "15\n",
      "5\n",
      "10\n"
     ]
    }
   ],
   "source": [
    "for age in ages:\n",
    "    print(age)"
   ]
  },
  {
   "cell_type": "code",
   "execution_count": 15,
   "id": "4e1b6564",
   "metadata": {},
   "outputs": [
    {
     "name": "stdout",
     "output_type": "stream",
     "text": [
      "OK\n",
      "OK\n",
      "OK\n",
      "혼잡\n",
      "혼잡\n",
      "혼잡\n"
     ]
    }
   ],
   "source": [
    "masss = [40, 60, 100, 200 ,300 ,400]\n",
    "\n",
    "\n",
    "def check_mass(mass):\n",
    "    if mass > 100:\n",
    "        print(\"혼잡\")\n",
    "    else :\n",
    "        print(\"OK\")\n",
    "        \n",
    "        \n",
    "        \n",
    "for mass in masss:\n",
    "\tcheck_mass(mass)\n"
   ]
  },
  {
   "cell_type": "code",
   "execution_count": 20,
   "id": "e4f3f583",
   "metadata": {},
   "outputs": [
    {
     "name": "stdout",
     "output_type": "stream",
     "text": [
      "성인입니다.\n"
     ]
    }
   ],
   "source": [
    "def is_adult(age):\n",
    "    if age>20:\n",
    "        print(\"성인입니다.\")\n",
    "    else:\n",
    "        print(\"미성년자입니다.\")\n",
    "is_adult(24)"
   ]
  },
  {
   "cell_type": "code",
   "execution_count": 22,
   "id": "2f2febef",
   "metadata": {},
   "outputs": [
    {
     "name": "stdout",
     "output_type": "stream",
     "text": [
      "Defaulting to user installation because normal site-packages is not writeable\n",
      "Requirement already satisfied: bs4 in /Users/chansoo/Library/Python/3.9/lib/python/site-packages (0.0.1)\n",
      "Requirement already satisfied: requests in /Users/chansoo/Library/Python/3.9/lib/python/site-packages (2.28.2)\n",
      "Requirement already satisfied: beautifulsoup4 in /Users/chansoo/Library/Python/3.9/lib/python/site-packages (from bs4) (4.12.2)\n",
      "Requirement already satisfied: certifi>=2017.4.17 in /Users/chansoo/Library/Python/3.9/lib/python/site-packages (from requests) (2022.12.7)\n",
      "Requirement already satisfied: idna<4,>=2.5 in /Users/chansoo/Library/Python/3.9/lib/python/site-packages (from requests) (3.4)\n",
      "Requirement already satisfied: urllib3<1.27,>=1.21.1 in /Users/chansoo/Library/Python/3.9/lib/python/site-packages (from requests) (1.26.15)\n",
      "Requirement already satisfied: charset-normalizer<4,>=2 in /Users/chansoo/Library/Python/3.9/lib/python/site-packages (from requests) (3.1.0)\n",
      "Requirement already satisfied: soupsieve>1.2 in /Users/chansoo/Library/Python/3.9/lib/python/site-packages (from beautifulsoup4->bs4) (2.4)\n",
      "\u001b[33mWARNING: You are using pip version 21.2.4; however, version 23.0.1 is available.\n",
      "You should consider upgrading via the '/Applications/Xcode.app/Contents/Developer/usr/bin/python3 -m pip install --upgrade pip' command.\u001b[0m\n"
     ]
    }
   ],
   "source": []
  },
  {
   "cell_type": "code",
   "execution_count": null,
   "id": "edfa0c2e",
   "metadata": {},
   "outputs": [],
   "source": []
  }
 ],
 "metadata": {
  "kernelspec": {
   "display_name": "Python 3 (ipykernel)",
   "language": "python",
   "name": "python3"
  },
  "language_info": {
   "codemirror_mode": {
    "name": "ipython",
    "version": 3
   },
   "file_extension": ".py",
   "mimetype": "text/x-python",
   "name": "python",
   "nbconvert_exporter": "python",
   "pygments_lexer": "ipython3",
   "version": "3.9.16"
  }
 },
 "nbformat": 4,
 "nbformat_minor": 5
}
