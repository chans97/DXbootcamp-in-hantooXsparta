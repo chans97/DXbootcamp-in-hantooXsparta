{
 "cells": [
  {
   "cell_type": "code",
   "execution_count": 1,
   "id": "fc8f96ce",
   "metadata": {},
   "outputs": [],
   "source": [
    "!pip3 install bs4 requests"
   ]
  },
  {
   "cell_type": "code",
   "execution_count": 2,
   "id": "1ca94567",
   "metadata": {},
   "outputs": [
    {
     "data": {
      "text/plain": [
       "\"애플, 맥 출하량 급감…2분기 연속 '역성장' 신호?\""
      ]
     },
     "execution_count": 2,
     "metadata": {},
     "output_type": "execute_result"
    }
   ],
   "source": [
    "import requests\n",
    "from bs4 import BeautifulSoup\n",
    "\n",
    "URL ='https://search.naver.com/search.naver?where=news&ie=utf8&sm=nws_hty&query=애플'\n",
    "\n",
    "headers = {'User-Agent' : 'Mozilla/5.0 (Windows NT 10.0; Win64; x64)AppleWebKit/537.36 (KHTML, like Gecko) Chrome/73.0.3683.86 Safari/537.36'}\n",
    "data = requests.get(URL,headers=headers)\n",
    "\n",
    "soup = BeautifulSoup(data.text, 'html.parser')\n",
    "\n",
    "a = soup.select_one('#sp_nws1 > div.news_wrap.api_ani_send > div > a')\n",
    "a['href']\n",
    "a.text"
   ]
  },
  {
   "cell_type": "code",
   "execution_count": 16,
   "id": "7bba0d49",
   "metadata": {},
   "outputs": [
    {
     "data": {
      "text/plain": [
       "'기사내용 요약 냉방 지원기기 보급 사업자로 선정 1만 3640가구에 에어컨 순차 공급 [서울=뉴시스] 동효정 기자 = 삼성전자가 지난해에 이어 2년 연속 산업통상자원부 산하 한국에너지재단이 추진하는 냉방 지원기기 보급...'"
      ]
     },
     "execution_count": 16,
     "metadata": {},
     "output_type": "execute_result"
    }
   ],
   "source": [
    "list_news = soup.select_one('#sp_nws1')\n",
    "news_title = list_news.select_one(\"div.news_wrap.api_ani_send > div > a\")\n",
    "news_title.text\n",
    "news_content = soup.select_one(\"#sp_nws1 > div.news_wrap.api_ani_send > div > div.news_dsc > div > a\")\n",
    "news_content.text"
   ]
  },
  {
   "cell_type": "code",
   "execution_count": 20,
   "id": "6d740545",
   "metadata": {},
   "outputs": [
    {
     "data": {
      "text/plain": [
       "{'title': '삼성전자, 취약계층 1만가구에 무풍 에어컨 지원',\n",
       " 'content': '기사내용 요약 냉방 지원기기 보급 사업자로 선정 1만 3640가구에 에어컨 순차 공급 [서울=뉴시스] 동효정 기자 = 삼성전자가 지난해에 이어 2년 연속 산업통상자원부 산하 한국에너지재단이 추진하는 냉방 지원기기 보급...'}"
      ]
     },
     "execution_count": 20,
     "metadata": {},
     "output_type": "execute_result"
    }
   ],
   "source": [
    "news_dict ={'title':news_title.text, 'content': news_content.text}\n",
    "news_dict\n"
   ]
  },
  {
   "cell_type": "code",
   "execution_count": 42,
   "id": "d6b947a9",
   "metadata": {},
   "outputs": [
    {
     "data": {
      "text/plain": [
       "[{'title': '애플페이 상륙으로 불붙은 ‘간편결제 大戰’',\n",
       "  'content': '서비스 ‘애플페이’가 3월 21일 한국에 상륙했다. 삼성전자 갤럭시폰 사용자는 ‘삼성페이’를 통해... 간편결제 애플리케이션(앱) 사용자 수 기준 1위이고, 국내 앱 시장 전체로 따져도 10위권이다. 삼성페이 누적...'},\n",
       " {'title': '중국서 발빼는 애플, 중국에 올인하는 테슬라',\n",
       "  'content': '테슬라, 中 상하이에 배터리 ‘메가팩토리’ 건설 애플과 테슬라가 중국 시장 관련 대조적인 움직임을 보이고 있다고 블룸버그 통신이 9일(현지 시각) 보도했다. 애플이 중국 생산 비중을 줄이는 등 탈중국에 속도를 내고...'},\n",
       " {'title': \"'무노조 경영' 애플, 노조 결성 움직임 확산에 대응\",\n",
       "  'content': '\\'무노조 경영\\'을 고수해온 애플이 매장 직원들의 노조 결성을 막기 위해 노력하고 있다고 9일(현지시간) <블룸버그통신>이 보도했다. 블룸버그는 \"애플이 아마존이나 스타벅스처럼 노조가 회사에 침투하지 않도록 애플...'},\n",
       " {'title': '애플, 美 소매점 노조 결성 방해 지속',\n",
       "  'content': '애플이 미국에서 직영 소매점 직원들의 노동조합 설립을 지속해서 저해하고 있다고 9일(현지시간) 블룸버그가 보도했다. 애플은 지난 2주 동안 약 270개 소매점 관리자들과 회의를 열고 노조 설립 동향과 영향에 관해...'},\n",
       " {'title': '\"애플, 이젠 놔줄게\"…서학개미들, 돈 싸들고 간 곳은',\n",
       "  'content': '올 들어 미국 나스닥시장이 반등하자 애플과 엔비디아 등 나스닥 빅테크 주식을 파는 서학개미가 늘어난... 애플(-2억2528만달러) 메타(-7010만달러) 알파벳(-1474만달러) ASML(-5299만달러) 등 다른 주요 빅테크 주식도...'},\n",
       " {'title': '[유통가 레이더] \"애플페이 비켜\"... 컬리, 12% 적립되는 \\'컬리페이·컬리카드...',\n",
       "  'content': \"시몬스(대표 안정호)가 침대 업계 최초로 '애플페이'를 도입했다. 시몬스 침대는 애플페이의 국내 상륙에 발맞춰 전국 시몬스 갤러리와 시몬스 맨션 그리고 온라인 자사 몰에서 애플페이 결제 서비스를 실시한다....\"},\n",
       " {'title': '애플·구글처럼…롯데웰푸드, 탄소중립 위한 글로벌 ‘RE100’ 가입',\n",
       "  'content': '가입 대상은 연간 100GWh 이상의 전기를 소비하는 기업으로 RE100을 달성한 대표적 글로벌 기업으로는 애플, 구글 등이 있다. 롯데웰푸드는 현재 천안공장, 횡성공장, 김천공장 등 8개 생산공장에서 태양광 발전을...'},\n",
       " {'title': '애플 탈중국 할때 中투자 늘리는 테슬라…머스크 속내는',\n",
       "  'content': '미국이 중국에 대한 압박 수위를 연일 높여가면서 애플은 중국에서 생산량을 줄이고 탈중국에 나서고 있지만 테슬라는 중국에 대규모 투자를 결정하는 대조적 행보를 보이고 있다.중국 배터리 공급망의 이점과 테슬라...'},\n",
       " {'title': '3년 전 애플 VS 페북 광고 프라이버시 논쟁, 승자는? [사이다IT]',\n",
       "  'content': '기사내용 요약 애플, ATT 정책 도입한 해에 광고사업 매출 전년비 3배 증가 각국서 메타 맞춤형 광고 규제... 그런데 애플의 주도로 다수 빅테크 기업들이 이런 메타의 맞춤형 광고를 견제하고 있습니다. 미국, 유럽...'},\n",
       " {'title': '애플 MR헤드셋 6월 출시 … 메타버스 구원투수 될까',\n",
       "  'content': \"챗GPT 돌풍에 메타버스 찬밥 메타마저 사업 구조조정 애플 행보에 VR업계 관심집중 2021년과 2022년 가장 뜨거운 테크 테마 중 하나였던 '메타버스'의 거품이 꺼지고 있다. 테크업계에서는 올해 6월 등장할 예정인 애플...\"}]"
      ]
     },
     "execution_count": 42,
     "metadata": {},
     "output_type": "execute_result"
    }
   ],
   "source": [
    "news_list = soup.select(\".list_news>li\")\n",
    "news_dict_list = []\n",
    "title_list =[]\n",
    "content_list =[]\n",
    "for news in news_list:\n",
    "    news_dict = {}\n",
    "    news_dict.update(\n",
    "        {\n",
    "            \"title\":news.select_one(\"div.news_wrap.api_ani_send > div > a\").text,\n",
    "            \"content\":news.select_one(\"div.news_wrap.api_ani_send > div > div.news_dsc > div > a\").text\n",
    "        }\n",
    "    )\n",
    "    news_dict_list.append(news_dict)\n",
    "    \n",
    "    \n",
    "news_dict_list\n",
    " "
   ]
  },
  {
   "cell_type": "code",
   "execution_count": 44,
   "id": "76f5cb0d",
   "metadata": {},
   "outputs": [],
   "source": [
    "def scrap_news(keyword):\n",
    "    URL =f'https://search.naver.com/search.naver?where=news&ie=utf8&sm=nws_hty&query={keyword}'\n",
    "    headers = {'User-Agent' : 'Mozilla/5.0 (Windows NT 10.0; Win64; x64)AppleWebKit/537.36 (KHTML, like Gecko) Chrome/73.0.3683.86 Safari/537.36'}\n",
    "    data = requests.get(URL,headers=headers)\n",
    "    soup = BeautifulSoup(data.text, 'html.parser')\n",
    "    \n",
    "    news_list = soup.select(\".list_news>li\")\n",
    "    news_dict_list = []\n",
    "    title_list =[]\n",
    "    content_list =[]\n",
    "    for news in news_list:\n",
    "        news_dict = {}\n",
    "        news_dict.update(\n",
    "            {\n",
    "                \"title\":news.select_one(\"div.news_wrap.api_ani_send > div > a\").text,\n",
    "                \"content\":news.select_one(\"div.news_wrap.api_ani_send > div > div.news_dsc > div > a\").text\n",
    "            }\n",
    "        )\n",
    "        news_dict_list.append(news_dict)\n",
    "\n",
    "\n",
    "    return news_dict_list\n"
   ]
  },
  {
   "cell_type": "code",
   "execution_count": 45,
   "id": "429e1065",
   "metadata": {},
   "outputs": [
    {
     "data": {
      "text/plain": [
       "[{'title': '애플페이 상륙으로 불붙은 ‘간편결제 大戰’',\n",
       "  'content': '서비스 ‘애플페이’가 3월 21일 한국에 상륙했다. 삼성전자 갤럭시폰 사용자는 ‘삼성페이’를 통해... 간편결제 애플리케이션(앱) 사용자 수 기준 1위이고, 국내 앱 시장 전체로 따져도 10위권이다. 삼성페이 누적...'},\n",
       " {'title': '중국서 발빼는 애플, 중국에 올인하는 테슬라',\n",
       "  'content': '테슬라, 中 상하이에 배터리 ‘메가팩토리’ 건설 애플과 테슬라가 중국 시장 관련 대조적인 움직임을 보이고 있다고 블룸버그 통신이 9일(현지 시각) 보도했다. 애플이 중국 생산 비중을 줄이는 등 탈중국에 속도를 내고...'},\n",
       " {'title': \"'무노조 경영' 애플, 노조 결성 움직임 확산에 대응\",\n",
       "  'content': '\\'무노조 경영\\'을 고수해온 애플이 매장 직원들의 노조 결성을 막기 위해 노력하고 있다고 9일(현지시간) <블룸버그통신>이 보도했다. 블룸버그는 \"애플이 아마존이나 스타벅스처럼 노조가 회사에 침투하지 않도록 애플...'},\n",
       " {'title': '애플, 美 소매점 노조 결성 방해 지속',\n",
       "  'content': '애플이 미국에서 직영 소매점 직원들의 노동조합 설립을 지속해서 저해하고 있다고 9일(현지시간) 블룸버그가 보도했다. 애플은 지난 2주 동안 약 270개 소매점 관리자들과 회의를 열고 노조 설립 동향과 영향에 관해...'},\n",
       " {'title': '\"애플, 이젠 놔줄게\"…서학개미들, 돈 싸들고 간 곳은',\n",
       "  'content': '올 들어 미국 나스닥시장이 반등하자 애플과 엔비디아 등 나스닥 빅테크 주식을 파는 서학개미가 늘어난... 애플(-2억2528만달러) 메타(-7010만달러) 알파벳(-1474만달러) ASML(-5299만달러) 등 다른 주요 빅테크 주식도...'},\n",
       " {'title': '애플·구글처럼…롯데웰푸드, 탄소중립 위한 글로벌 ‘RE100’ 가입',\n",
       "  'content': '가입 대상은 연간 100GWh 이상의 전기를 소비하는 기업으로 RE100을 달성한 대표적 글로벌 기업으로는 애플, 구글 등이 있다. 롯데웰푸드는 현재 천안공장, 횡성공장, 김천공장 등 8개 생산공장에서 태양광 발전을...'},\n",
       " {'title': '애플 탈중국 할때 中투자 늘리는 테슬라…머스크 속내는',\n",
       "  'content': '미국이 중국에 대한 압박 수위를 연일 높여가면서 애플은 중국에서 생산량을 줄이고 탈중국에 나서고 있지만 테슬라는 중국에 대규모 투자를 결정하는 대조적 행보를 보이고 있다.중국 배터리 공급망의 이점과 테슬라...'},\n",
       " {'title': '3년 전 애플 VS 페북 광고 프라이버시 논쟁, 승자는? [사이다IT]',\n",
       "  'content': '기사내용 요약 애플, ATT 정책 도입한 해에 광고사업 매출 전년비 3배 증가 각국서 메타 맞춤형 광고 규제... 그런데 애플의 주도로 다수 빅테크 기업들이 이런 메타의 맞춤형 광고를 견제하고 있습니다. 미국, 유럽...'},\n",
       " {'title': '애플 MR헤드셋 6월 출시 … 메타버스 구원투수 될까',\n",
       "  'content': \"챗GPT 돌풍에 메타버스 찬밥 메타마저 사업 구조조정 애플 행보에 VR업계 관심집중 2021년과 2022년 가장 뜨거운 테크 테마 중 하나였던 '메타버스'의 거품이 꺼지고 있다. 테크업계에서는 올해 6월 등장할 예정인 애플...\"},\n",
       " {'title': \"애플이 만들면 'MR 헤드셋'도 다를까\",\n",
       "  'content': \"# 애플이 조만간 새로운 헤드셋을 출시할 거란 소문이 돌고 있습니다. 그런데, 생김새가 평범한 헤드셋과는 좀 다릅니다. '혼합현실'이란 생소한 기술을 탑재한 헤드셋이기 때문입니다. # 이게 대체 뭐기에 애플이 새...\"}]"
      ]
     },
     "execution_count": 45,
     "metadata": {},
     "output_type": "execute_result"
    }
   ],
   "source": [
    "scrap_news(\"애플\")"
   ]
  }
 ],
 "metadata": {
  "kernelspec": {
   "display_name": "Python 3 (ipykernel)",
   "language": "python",
   "name": "python3"
  },
  "language_info": {
   "codemirror_mode": {
    "name": "ipython",
    "version": 3
   },
   "file_extension": ".py",
   "mimetype": "text/x-python",
   "name": "python",
   "nbconvert_exporter": "python",
   "pygments_lexer": "ipython3",
   "version": "3.9.6"
  },
  "vscode": {
   "interpreter": {
    "hash": "31f2aee4e71d21fbe5cf8b01ff0e069b9275f58929596ceb00d14d90e3e16cd6"
   }
  }
 },
 "nbformat": 4,
 "nbformat_minor": 5
}
